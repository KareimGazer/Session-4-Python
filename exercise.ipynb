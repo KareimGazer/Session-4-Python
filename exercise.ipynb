{
 "cells": [
  {
   "cell_type": "markdown",
   "metadata": {},
   "source": [
    "# Exercise\n",
    "\n",
    "wrap your statements into python functions and add comments explaining each function while passing different arguments."
   ]
  },
  {
   "cell_type": "markdown",
   "metadata": {},
   "source": [
    "create a calculator function that takes two int and one string arguments.\n",
    "its signature should be like `def calculator(num1, num2, operation)`:\n",
    "\n",
    "1. It takes two int and one string arguments\n",
    "   `def calculator(num1: int, num2: int, operation: str) -> int | float | None:`\n",
    "2. It runs a validation check on the types of inputs otherwise it returns None\n",
    "3. Depending on the input string, do a certain arithmetic operation (addition, subtraction, multiplication, division)\n",
    "4. check whether the result is an odd or even number\n",
    "5. return the result \"(results, even/odd)\"\n",
    "6. **[Bonus]**: Arguments are prompted to be entered from the user input using the python input function"
   ]
  },
  {
   "cell_type": "code",
   "execution_count": 1,
   "metadata": {},
   "outputs": [],
   "source": [
    "def calculator(num1: int, num2: int, operation: str) -> int | float | None:\n",
    "\n",
    "    # validating the inputs and returning None if invalid\n",
    "    if not isinstance(num1, int) or not isinstance(num2, int) or not isinstance(operation, str):\n",
    "        return None\n",
    "\n",
    "    # calculating the result\n",
    "    result = 0\n",
    "    if operation == \"+\":\n",
    "        result = num1 + num2\n",
    "    elif operation == \"-\":\n",
    "        result =  num1 - num2\n",
    "    elif operation == \"*\":\n",
    "        result = num1 * num2\n",
    "    elif operation == \"/\":\n",
    "        result = num1 / num2\n",
    "    else:\n",
    "        return None\n",
    "    \n",
    "    # checking if the result is odd or even\n",
    "    is_number_even = (result % 2 == 0)\n",
    "\n",
    "    # determining the kind of the number\n",
    "    number_kind = ''\n",
    "    if is_number_even:\n",
    "        number_kind = 'even'\n",
    "    else:\n",
    "        number_kind = 'odd'\n",
    "\n",
    "    # returning the result\n",
    "    return (result, number_kind)"
   ]
  },
  {
   "cell_type": "code",
   "execution_count": 2,
   "metadata": {},
   "outputs": [
    {
     "name": "stdout",
     "output_type": "stream",
     "text": [
      "(3, 'odd')\n",
      "(-1, 'odd')\n",
      "(2, 'even')\n",
      "(0.5, 'odd')\n",
      "None\n",
      "None\n",
      "None\n",
      "None\n",
      "None\n"
     ]
    }
   ],
   "source": [
    "print(calculator(1, 2, \"+\"))\n",
    "print(calculator(1, 2, \"-\"))\n",
    "print(calculator(1, 2, \"*\"))\n",
    "print(calculator(1, 2, \"/\"))\n",
    "print(calculator(1, 2, \"%\"))\n",
    "print(calculator(1, 2, \"1\"))\n",
    "print(calculator(1, \"2\", \"+\"))\n",
    "print(calculator(\"1\", 2, \"+\"))\n",
    "print(calculator(1, 2, \"a\"))"
   ]
  }
 ],
 "metadata": {
  "kernelspec": {
   "display_name": "Python 3",
   "language": "python",
   "name": "python3"
  },
  "language_info": {
   "codemirror_mode": {
    "name": "ipython",
    "version": 3
   },
   "file_extension": ".py",
   "mimetype": "text/x-python",
   "name": "python",
   "nbconvert_exporter": "python",
   "pygments_lexer": "ipython3",
   "version": "3.13.0"
  }
 },
 "nbformat": 4,
 "nbformat_minor": 2
}
