{
 "cells": [
  {
   "cell_type": "markdown",
   "metadata": {},
   "source": [
    "# Bonus Exercise\n",
    "\n",
    "Create a set of functions as follows:"
   ]
  },
  {
   "cell_type": "code",
   "execution_count": 1,
   "metadata": {},
   "outputs": [],
   "source": [
    "import turtle"
   ]
  },
  {
   "cell_type": "markdown",
   "metadata": {},
   "source": [
    "1. one function for drawing a rectangle and takes the length and width as arguments"
   ]
  },
  {
   "cell_type": "code",
   "execution_count": null,
   "metadata": {},
   "outputs": [],
   "source": [
    "def draw_rectangle(length, width):\n",
    "    \"\"\"\n",
    "    Draws a rectangle using the turtle module.\n",
    "\n",
    "    Args:\n",
    "        length (float): The length of the rectangle.\n",
    "        width (float): The width of the rectangle.\n",
    "    \"\"\"\n",
    "    \n",
    "    # Create a turtle object\n",
    "    amy = turtle.Turtle()\n",
    "\n",
    "    # Set drawing speed to be slow\n",
    "    amy.speed(1)\n",
    "\n",
    "    # Draw the rectangle\n",
    "    for _ in range(2):\n",
    "        amy.forward(length)\n",
    "        amy.left(90)\n",
    "        amy.forward(width)\n",
    "        amy.left(90)\n",
    "    turtle.done()\n",
    "\n",
    "draw_rectangle(200, 100)"
   ]
  },
  {
   "cell_type": "markdown",
   "metadata": {},
   "source": [
    "2. one function for drawing a circle and takes the radius of the circle as an argument"
   ]
  },
  {
   "cell_type": "code",
   "execution_count": 3,
   "metadata": {},
   "outputs": [],
   "source": [
    "def draw_circle(radius):\n",
    "    \"\"\"\n",
    "    Draws a circle using the turtle module.\n",
    "\n",
    "    Args:\n",
    "        radius (float): The radius of the circle.\n",
    "    \"\"\"\n",
    "    \n",
    "    # Create a turtle object\n",
    "    amy = turtle.Turtle()\n",
    "    amy.speed(1)  # Set drawing speed\n",
    "\n",
    "    # Draw the circle\n",
    "    amy.circle(radius)\n",
    "\n",
    "    turtle.done()\n",
    "\n",
    "# Example usage\n",
    "draw_circle(100)"
   ]
  },
  {
   "cell_type": "markdown",
   "metadata": {},
   "source": [
    "3. one function for drawing a square and takes the side length as an argument"
   ]
  },
  {
   "cell_type": "code",
   "execution_count": null,
   "metadata": {},
   "outputs": [],
   "source": [
    "def draw_square(side_length):\n",
    "    \"\"\"\n",
    "    Draws a square using the turtle module.\n",
    "\n",
    "    Args:\n",
    "        side_length (float): The length of each side of the square.\n",
    "    \"\"\"\n",
    "    \n",
    "    # Create a turtle object\n",
    "    amy = turtle.Turtle()\n",
    "    amy.speed(1)  # Set drawing speed\n",
    "\n",
    "    # Draw the square\n",
    "    for _ in range(4):\n",
    "        amy.forward(side_length)\n",
    "        amy.left(90)\n",
    "\n",
    "    # Wait for the user to close the window\n",
    "    turtle.done()\n",
    "\n",
    "# Example usage\n",
    "draw_square(150)"
   ]
  },
  {
   "cell_type": "markdown",
   "metadata": {},
   "source": [
    "4. one function for drawing a star and takes no arguments."
   ]
  },
  {
   "cell_type": "code",
   "execution_count": null,
   "metadata": {},
   "outputs": [],
   "source": [
    "def draw_star():\n",
    "    \"\"\"\n",
    "    Draws a five-pointed star using the turtle module.\n",
    "    \"\"\"\n",
    "    \n",
    "    # Create a turtle object\n",
    "    amy = turtle.Turtle()\n",
    "\n",
    "    # Set drawing speed\n",
    "    amy.speed(1)\n",
    "\n",
    "    # Draw a star\n",
    "    for _ in range(5):\n",
    "        amy.forward(100)\n",
    "        amy.right(144)  \n",
    "\n",
    "    # Wait for the user to close the window\n",
    "    turtle.done()\n",
    "\n",
    "# Example usage\n",
    "draw_star()"
   ]
  },
  {
   "cell_type": "markdown",
   "metadata": {},
   "source": [
    "5. One function that takes a house squared body side length, its circular windows dimensions, its rectangular windows’ dimensions, and calls the above created functions to draw such a house surrounded by some stars."
   ]
  },
  {
   "cell_type": "code",
   "execution_count": null,
   "metadata": {},
   "outputs": [],
   "source": [
    "from house_turtle import draw_house\n",
    "draw_house(200, 30, 50, 80)"
   ]
  }
 ],
 "metadata": {
  "kernelspec": {
   "display_name": "Python 3",
   "language": "python",
   "name": "python3"
  },
  "language_info": {
   "codemirror_mode": {
    "name": "ipython",
    "version": 3
   },
   "file_extension": ".py",
   "mimetype": "text/x-python",
   "name": "python",
   "nbconvert_exporter": "python",
   "pygments_lexer": "ipython3",
   "version": "3.13.0"
  }
 },
 "nbformat": 4,
 "nbformat_minor": 2
}
