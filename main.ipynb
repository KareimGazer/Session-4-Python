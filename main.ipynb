{
 "cells": [
  {
   "cell_type": "markdown",
   "metadata": {},
   "source": [
    "# Functions\n",
    "\n",
    "Functions encapsulate blocks of code that execute when called. They serve as reusable units of code that perform specific tasks upon invocation."
   ]
  },
  {
   "cell_type": "markdown",
   "metadata": {},
   "source": [
    "A block of code within a function doesn't execute until explicitly invoked by calling that function. This control allows for efficient code organization and execution flow management."
   ]
  },
  {
   "cell_type": "code",
   "execution_count": 2,
   "metadata": {},
   "outputs": [
    {
     "name": "stdout",
     "output_type": "stream",
     "text": [
      "Hello, world!\n"
     ]
    }
   ],
   "source": [
    "def print_hello():\n",
    "    print(\"Hello, world!\")\n",
    "\n",
    "print_hello()"
   ]
  },
  {
   "cell_type": "markdown",
   "metadata": {},
   "source": [
    "Arguments are values passed to a function when it's called. They enable customization and flexibility within functions by providing specific data or inputs required for the function's execution and behavior."
   ]
  },
  {
   "cell_type": "code",
   "execution_count": null,
   "metadata": {},
   "outputs": [],
   "source": [
    "def print_name(name):\n",
    "    message = \"Hello, \" + name + \"!\"\n",
    "    print(message)\n",
    "\n",
    "print_name(\"John\")"
   ]
  },
  {
   "cell_type": "markdown",
   "metadata": {},
   "source": [
    "## Return Statements\n",
    "\n",
    "A return statement is used to signify that a function has completed its task and is ready to provide a result or output back to the calling code.\n",
    "It halts the function's execution and sends a value, if specified, back to the caller."
   ]
  },
  {
   "cell_type": "code",
   "execution_count": null,
   "metadata": {},
   "outputs": [],
   "source": []
  },
  {
   "cell_type": "markdown",
   "metadata": {},
   "source": [
    "## Types of Return Values\n",
    "\n",
    "Python functions can return various data types such as integers, strings, lists, dictionaries, booleans, or even custom objects.\n",
    "\n",
    "This versatility allows functions to convey different types of information or processed results to the calling code, enhancing the flexibility and usefulness of functions."
   ]
  },
  {
   "cell_type": "code",
   "execution_count": null,
   "metadata": {},
   "outputs": [],
   "source": []
  },
  {
   "cell_type": "markdown",
   "metadata": {},
   "source": [
    "## Excercise\n",
    "\n",
    "Write a Python function called `multiply_numbers` that takes two arguments, `num1` and `num2`. Inside the function, calculate the product of these two numbers and return the result."
   ]
  },
  {
   "cell_type": "code",
   "execution_count": 1,
   "metadata": {},
   "outputs": [
    {
     "name": "stdout",
     "output_type": "stream",
     "text": [
      "The result of multiplying 5 and 3 is: 15\n"
     ]
    }
   ],
   "source": [
    "# Define the function\n",
    "def multiply_numbers(num1, num2):\n",
    "   product = num1 * num2\n",
    "   return product\n",
    "\n",
    "# Test the function\n",
    "result = multiply_numbers(5, 3)\n",
    "print(\"The result of multiplying 5 and 3 is:\", result)"
   ]
  },
  {
   "cell_type": "markdown",
   "metadata": {},
   "source": [
    "## Exercise\n",
    "\n",
    "What is the expected output of the following lines of code?\n"
   ]
  },
  {
   "cell_type": "code",
   "execution_count": null,
   "metadata": {},
   "outputs": [],
   "source": [
    "def add_numbers(a, b):\n",
    "   return a + b\n",
    "\n",
    "# Scenario 1: Function call\n",
    "result = add_numbers(3, 4)\n",
    "print(result)"
   ]
  },
  {
   "cell_type": "code",
   "execution_count": null,
   "metadata": {},
   "outputs": [],
   "source": [
    "def multiply_numbers(x, y):\n",
    "   return x * y\n",
    "\n",
    "# Scenario 2: Function not called\n",
    "print(multiply_numbers)"
   ]
  },
  {
   "cell_type": "code",
   "execution_count": null,
   "metadata": {},
   "outputs": [],
   "source": [
    "def greet(name):\n",
    "   message = \"Hello, \" + name + \"!\"\n",
    "   return message\n",
    "\n",
    "# Scenario 3: Function call with print\n",
    "print(greet(\"Alice\"))"
   ]
  }
 ],
 "metadata": {
  "kernelspec": {
   "display_name": "Python 3",
   "language": "python",
   "name": "python3"
  },
  "language_info": {
   "codemirror_mode": {
    "name": "ipython",
    "version": 3
   },
   "file_extension": ".py",
   "mimetype": "text/x-python",
   "name": "python",
   "nbconvert_exporter": "python",
   "pygments_lexer": "ipython3",
   "version": "3.13.0"
  }
 },
 "nbformat": 4,
 "nbformat_minor": 2
}
